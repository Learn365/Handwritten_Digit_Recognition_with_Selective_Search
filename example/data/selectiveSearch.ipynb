{
 "cells": [
  {
   "cell_type": "code",
   "execution_count": null,
   "metadata": {},
   "outputs": [],
   "source": [
    "# 第一步：原始图片为拿画板随便写的几个数字\n",
    "import cv2\n",
    "import selectivesearch\n",
    "import matplotlib.pyplot as plt\n",
    "import matplotlib.patches as mpatches\n",
    "import numpy as np\n",
    "from IPython.display import Image as img_display"
   ]
  },
  {
   "cell_type": "code",
   "execution_count": null,
   "metadata": {},
   "outputs": [],
   "source": [
    "# 第二步：执行搜索工具,展示搜索结果\n",
    "image_path = \"./data/1.png\"\n",
    "# 用cv2读取图片\n",
    "img = cv2.imread(image_path)\n",
    "# 白底黑字图 改为黑底白字图\n",
    "img = 255 - img\n",
    "\n",
    "# selectivesearch 调用selectivesearch函数 对图片目标进行搜索\n",
    "img_lbl, regions = selectivesearch.selective_search(\n",
    "    img, scale=200, sigma=0.9, min_size=20)\n",
    "\n",
    "# print(regions[0])  # {'labels': [0.0], 'rect': (0, 0, 585, 301), 'size': 160699}  第一个为原始图的区域\n",
    "print(\"totally searched %d regions\" % len(regions))  # 共搜索到199个区域\n",
    "\n",
    "# 接下来我们把窗口和图像打印出来，对它有个直观认识\n",
    "# cv2.imshow('image', img)\n",
    "\n",
    "# 计算区域面积均值\n",
    "area = 0\n",
    "for reg in regions:\n",
    "    x, y, w, h = reg['rect']\n",
    "    area += w * h\n",
    "area /= len(regions)\n",
    "# 展示区域分布\n",
    "show_fig(img, [data['rect'] for data in regions])"
   ]
  },
  {
   "cell_type": "code",
   "execution_count": null,
   "metadata": {},
   "outputs": [],
   "source": [
    "# 第三步：过滤掉冗余的窗口\n",
    "# 1）第一过滤\n",
    "candidates = first_filter(area, regions)\n",
    "print('after first filter left %d regions' % len(candidates))\n",
    "\n",
    "# 展示第一次过滤后的区域分布\n",
    "show_fig(img, candidates)\n",
    "\n",
    "# 2)第二次过滤 大圈套小圈的目标 只保留大圈\n",
    "num_array = second_filter(candidates)\n",
    "\n",
    "# 窗口过滤完之后的数量\n",
    "print('after second filter left %d regions' % len(num_array))\n",
    "\n",
    "# 3) 展示第二次过滤后的区域分布\n",
    "show_fig(img, num_array)"
   ]
  },
  {
   "cell_type": "code",
   "execution_count": null,
   "metadata": {},
   "outputs": [],
   "source": [
    "# 第四步：将数字进行排序（从上往下，从左到右）\n",
    "image_data = order_number(img, num_array)\n",
    "# 保存结果\n",
    "np.save('./data/image_data.npy', image_data)"
   ]
  }
 ],
 "metadata": {
  "kernelspec": {
   "display_name": "Python 3",
   "language": "python",
   "name": "python3"
  },
  "language_info": {
   "codemirror_mode": {
    "name": "ipython",
    "version": 3
   },
   "file_extension": ".py",
   "mimetype": "text/x-python",
   "name": "python",
   "nbconvert_exporter": "python",
   "pygments_lexer": "ipython3",
   "version": "3.5.2"
  }
 },
 "nbformat": 4,
 "nbformat_minor": 2
}
